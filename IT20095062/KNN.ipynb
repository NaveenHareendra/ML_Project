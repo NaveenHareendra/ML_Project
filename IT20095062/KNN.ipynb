{
 "cells": [
  {
   "cell_type": "code",
   "execution_count": 1,
   "id": "2926b16b",
   "metadata": {},
   "outputs": [
    {
     "name": "stdout",
     "output_type": "stream",
     "text": [
      "True Ratio: 22.12%\n",
      "False Ratio: 77.88%\n",
      "Accuracy from KNN: 0.7941111111111111\n"
     ]
    }
   ],
   "source": [
    "import pandas as pd\n",
    "from sklearn.model_selection import train_test_split\n",
    "from sklearn.preprocessing import MinMaxScaler\n",
    "from sklearn.neighbors import KNeighborsClassifier\n",
    "import warnings\n",
    "warnings.filterwarnings(\"ignore\", category=FutureWarning)\n",
    "\n",
    "# load credit card data set\n",
    "dataset = pd.read_csv('UCI_Credit_Card.csv')\n",
    "\n",
    "# check null values in the data set\n",
    "null_counts = dataset.isnull().sum()\n",
    "\n",
    "# remove irrelavent attributes\n",
    "dataset = dataset.drop(['ID'], axis=1)\n",
    "\n",
    "# get number of samples in the each class\n",
    "classCount = dataset['default'].value_counts()\n",
    "\n",
    "# get true/false ratios\n",
    "trueRatio = classCount[1] / len(dataset)\n",
    "falseRatio = classCount[0] / len(dataset)\n",
    "\n",
    "print(f'True Ratio: {trueRatio:.2%}')\n",
    "print(f'False Ratio: {falseRatio:.2%}')\n",
    "\n",
    "# Split the data set into features and target variable\n",
    "X = dataset.drop('default', axis=1)\n",
    "y = dataset['default']\n",
    "\n",
    "# Split data into two part as training and test data set\n",
    "X_train, X_test, y_train, y_test = train_test_split(X, y, test_size=0.3, random_state=42)\n",
    "\n",
    "# MinMaxScaler object creste\n",
    "scalerObject = MinMaxScaler()\n",
    "\n",
    "# fit and transform training data set\n",
    "X_train = scalerObject.fit_transform(X_train)\n",
    "\n",
    "# transform test data set\n",
    "X_test = scalerObject.transform(X_test)\n",
    "\n",
    "# KNN classifier create and select 5 neighbors\n",
    "knn = KNeighborsClassifier(n_neighbors=5)\n",
    "\n",
    "# Train the model\n",
    "knn.fit(X_train, y_train)\n",
    "\n",
    "# Predict the class labels\n",
    "y_pred = knn.predict(X_test)\n",
    "\n",
    "# Calculate the accuracy of model using test data set\n",
    "accuracy = knn.score(X_test, y_test)\n",
    "\n",
    "print(\"Accuracy from KNN:\", accuracy)\n"
   ]
  },
  {
   "cell_type": "code",
   "execution_count": null,
   "id": "9662ddbf",
   "metadata": {},
   "outputs": [],
   "source": []
  }
 ],
 "metadata": {
  "kernelspec": {
   "display_name": "Python 3 (ipykernel)",
   "language": "python",
   "name": "python3"
  },
  "language_info": {
   "codemirror_mode": {
    "name": "ipython",
    "version": 3
   },
   "file_extension": ".py",
   "mimetype": "text/x-python",
   "name": "python",
   "nbconvert_exporter": "python",
   "pygments_lexer": "ipython3",
   "version": "3.9.13"
  }
 },
 "nbformat": 4,
 "nbformat_minor": 5
}
