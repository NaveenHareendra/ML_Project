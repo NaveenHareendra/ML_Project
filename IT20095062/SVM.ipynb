{
 "cells": [
  {
   "cell_type": "code",
   "execution_count": 1,
   "id": "f0da3938",
   "metadata": {},
   "outputs": [
    {
     "name": "stdout",
     "output_type": "stream",
     "text": [
      "Accuracy Rate from SVM: 0.8171111111111111\n"
     ]
    }
   ],
   "source": [
    "import pandas as pd\n",
    "from sklearn.model_selection import train_test_split\n",
    "from sklearn.preprocessing import MinMaxScaler\n",
    "import warnings\n",
    "warnings.filterwarnings(\"ignore\", category=FutureWarning)\n",
    "\n",
    "from sklearn import svm\n",
    "from sklearn.metrics import accuracy_score\n",
    "\n",
    "# load the dataset\n",
    "dataset = pd.read_csv('UCI_Credit_Card.csv')\n",
    "\n",
    "# check for null values in the dataset\n",
    "null_counts = dataset.isnull().sum()\n",
    "\n",
    "# remove the \"ID\" attribute\n",
    "dataset = dataset.drop(['ID'], axis=1)\n",
    "\n",
    "# count number of samples in two classes\n",
    "classCounts = dataset['default'].value_counts()\n",
    "\n",
    "# calculate the true/false ratio\n",
    "trueRatio = classCounts[1] / len(dataset)\n",
    "falseRatio = classCounts[0] / len(dataset)\n",
    "\n",
    "# Split data into features and target variable\n",
    "X = dataset.drop('default', axis=1)\n",
    "y = dataset['default']\n",
    "\n",
    "# Split data into two as training and test data set\n",
    "X_train, X_test, y_train, y_test = train_test_split(X, y, test_size=0.3, random_state=42)\n",
    "\n",
    "# MinMaxScaler create\n",
    "scalerObject = MinMaxScaler()\n",
    "\n",
    "# fit and transform the training data set\n",
    "X_train = scalerObject.fit_transform(X_train)\n",
    "\n",
    "# transform test data set\n",
    "X_test = scalerObject.transform(X_test)\n",
    "\n",
    "# SVM classifier create \n",
    "svm_model = svm.SVC()\n",
    "\n",
    "# train the SVM model\n",
    "svm_model.fit(X_train, y_train)\n",
    "\n",
    "# predict the labels of test set\n",
    "y_pred = svm_model.predict(X_test)\n",
    "\n",
    "# calculate the accuracy of SVM model\n",
    "accuracy = accuracy_score(y_test, y_pred)\n",
    "print(\"Accuracy Rate from SVM:\", accuracy)"
   ]
  },
  {
   "cell_type": "code",
   "execution_count": null,
   "id": "1f4479d2",
   "metadata": {},
   "outputs": [],
   "source": []
  }
 ],
 "metadata": {
  "kernelspec": {
   "display_name": "Python 3 (ipykernel)",
   "language": "python",
   "name": "python3"
  },
  "language_info": {
   "codemirror_mode": {
    "name": "ipython",
    "version": 3
   },
   "file_extension": ".py",
   "mimetype": "text/x-python",
   "name": "python",
   "nbconvert_exporter": "python",
   "pygments_lexer": "ipython3",
   "version": "3.9.13"
  }
 },
 "nbformat": 4,
 "nbformat_minor": 5
}
